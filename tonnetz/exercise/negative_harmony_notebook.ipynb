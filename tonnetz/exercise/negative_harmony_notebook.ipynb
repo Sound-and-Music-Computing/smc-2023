{
 "cells": [
  {
   "cell_type": "code",
   "execution_count": 4,
   "metadata": {
    "collapsed": true
   },
   "outputs": [],
   "source": [
    "import partitura as pt\n",
    "import numpy as np\n",
    "import copy\n",
    "import os"
   ]
  },
  {
   "cell_type": "code",
   "execution_count": 5,
   "metadata": {
    "pycharm": {
     "name": "#%%\n"
    }
   },
   "outputs": [],
   "source": [
    "def reflect(chord, point=0):\n",
    "    \"\"\"Reflect a chord around a point.\"\"\"\n",
    "    base = chord[0]\n",
    "    new_base = ((point + 7) - base) % 12\n",
    "    if len(chord) > 1:\n",
    "        rel_from_base = [(n - base) for n in chord[1:]]\n",
    "        inv_rel = [(-rel) % 12 for rel in rel_from_base]\n",
    "        neg_chord = [new_base] + list(map(lambda x: (x + new_base) % 12, inv_rel))\n",
    "    else:\n",
    "        neg_chord = [new_base]\n",
    "    return neg_chord"
   ]
  },
  {
   "cell_type": "code",
   "execution_count": 14,
   "metadata": {
    "pycharm": {
     "name": "#%%\n"
    }
   },
   "outputs": [],
   "source": [
    "def negative_harmony(old_part):\n",
    "    \"\"\"Create Negative Harmony in the JacobColierian way.\"\"\"\n",
    "    part = copy.copy(old_part)\n",
    "    na = part.note_array()\n",
    "    has_part = True\n",
    "    for onset in np.unique(na[\"onset_beat\"]):\n",
    "        plist = na[np.where(na[\"onset_beat\"] == onset)][\"pitch\"]\n",
    "        pm = list(map(lambda y: (y % 12, int(y / 12)), plist))\n",
    "        pc, mapping = zip(*pm)\n",
    "        new_pc = reflect(chord=pc, point=0)\n",
    "        new_pitches = [a + b * 12 for a, b in zip(new_pc, mapping)]\n",
    "        for i, index in enumerate(np.where(na[\"onset_beat\"] == onset)[0]):\n",
    "            na[\"pitch\"][index] = new_pitches[i]\n",
    "\n",
    "    # Overwite the part with new pitches\n",
    "    for note in part.notes:\n",
    "        n = na[na[\"id\"] == note.id]\n",
    "        mpitch = n[\"pitch\"].item()\n",
    "        note_spelling = pt.utils.music.midi_pitch_to_pitch_spelling(mpitch)\n",
    "        note.step, note.alter, note.octave = note_spelling\n",
    "    return part"
   ]
  },
  {
   "cell_type": "code",
   "execution_count": 15,
   "metadata": {
    "pycharm": {
     "name": "#%%\n"
    }
   },
   "outputs": [],
   "source": [
    "# Replace by your piece path\n",
    "piece_path = os.path.join(os.path.dirname(os.getcwd()), \"assets\", \"Exercise_01.musicxml\")\n",
    "part = pt.load_score(piece_path)[0]"
   ]
  },
  {
   "cell_type": "code",
   "execution_count": 16,
   "metadata": {
    "pycharm": {
     "name": "#%%\n"
    }
   },
   "outputs": [],
   "source": [
    "new_part = negative_harmony(part)\n",
    "pt.save_musicxml(new_part, os.path.join(os.getcwd(), \"negative_part.musicxml\"))"
   ]
  }
 ],
 "metadata": {
  "kernelspec": {
   "display_name": "Python 3 (ipykernel)",
   "language": "python",
   "name": "python3"
  },
  "language_info": {
   "codemirror_mode": {
    "name": "ipython",
    "version": 3
   },
   "file_extension": ".py",
   "mimetype": "text/x-python",
   "name": "python",
   "nbconvert_exporter": "python",
   "pygments_lexer": "ipython3",
   "version": "3.8.13"
  }
 },
 "nbformat": 4,
 "nbformat_minor": 1
}
