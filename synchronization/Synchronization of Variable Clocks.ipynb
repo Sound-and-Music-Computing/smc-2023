{
 "cells": [
  {
   "cell_type": "markdown",
   "id": "9ef42dfe",
   "metadata": {},
   "source": [
    "## Synchronization of Variable Clocks\n",
    "\n",
    "In this notebook we look at a the synchronization of variable clocks. Specifically, we assume two clocks, one being an input clock A (outside our control) sending n signals per cycle. The rate of clock A is variable, we have to infer it from the signals we get in real time. Our task is to create a second B clock sending m signals per cycle while being synchronized to A. Visualize it as a gearbox with ratio n:m, however our input is not given as a a continuous rotation but as a discrete signal."
   ]
  },
  {
   "cell_type": "code",
   "execution_count": 2,
   "id": "008be444",
   "metadata": {},
   "outputs": [],
   "source": [
    "# MIDI sync generator with rotary encoder\n",
    "# october 2023\n",
    "# silvan peter\n",
    "import time\n",
    "from time import sleep\n",
    "import random\n",
    "import threading\n",
    "from threading import Thread, Lock\n",
    "import numpy as np\n",
    "import matplotlib.pyplot as plt\n",
    "%matplotlib inline"
   ]
  },
  {
   "cell_type": "markdown",
   "id": "db36a165",
   "metadata": {},
   "source": [
    "The incoming signal is called INCR (=increment), it will later come from an external rotary encoder or some other controller. To simulate this in our coding environment, we create an encoder object."
   ]
  },
  {
   "cell_type": "code",
   "execution_count": 3,
   "id": "8208fe82",
   "metadata": {},
   "outputs": [],
   "source": [
    "# SET ENCODER\n",
    "class Encoders:\n",
    "    def __init__(self, pos):\n",
    "        self.position = pos\n",
    "\n",
    "encoder = Encoders(0)"
   ]
  },
  {
   "cell_type": "markdown",
   "id": "36551f57",
   "metadata": {},
   "source": [
    "To mimick the rotary encoder being moved, we create a thread (concurrent program) that changes the simulated encoder's position.\n",
    "\n",
    "Since both this thread (the clock A) and out receiving clock B (another thread below) read/write from the same resource (the encoder), we put a lock on it to avoid both threads changing the encoder at the same time."
   ]
  },
  {
   "cell_type": "code",
   "execution_count": 7,
   "id": "a82332cf",
   "metadata": {},
   "outputs": [],
   "source": [
    "lock = Lock()\n",
    "sync_collector = []\n",
    "incr_collector = []"
   ]
  },
  {
   "cell_type": "code",
   "execution_count": 8,
   "id": "3f5e64ca",
   "metadata": {},
   "outputs": [],
   "source": [
    "def increment_encoder(): # the function in clock A thread\n",
    "    global encoder, lock\n",
    "    sleep(1)\n",
    "    for k in range(10):\n",
    "        lock.acquire()\n",
    "        encoder.position += 1\n",
    "        sleepy_time = 1.0 # np.random.rand() + 0.5\n",
    "        print(\"sleepy time: \", sleepy_time)\n",
    "        lock.release()\n",
    "        sleep(sleepy_time)"
   ]
  },
  {
   "cell_type": "markdown",
   "id": "ff4b8abe",
   "metadata": {},
   "source": [
    "The outgoing signal is called SYNC (=synchronization), it will later send MIDI Timing Clock messages. In the code below we use a dummy function `sync_sender` which gets called as clock signal of clock B.\n",
    "\n",
    "\n",
    "This function is fairly long, note the following parts:\n",
    "- the function reads and writes to some global variable and uses the lock as does the other thread\n",
    "- clock B only starts when clock A starts, initially both of them are not sending any signals\n",
    "- the starting loop listens for the first message and sets everything up\n",
    "- clock B needs to keep track of: the rate of clock A, the position in the cycle of clock A, as well as the conversion of both of these into clock A rate and clock A position.\n",
    "\n",
    "There are some constraints on the synchronization\n",
    "- if clock B is running too fast, and a new signal from clock A arrives later than expected, it should not drift. Clock B should send only as many signals as it needs to send in an intersignal interval of clock A and then clock B stops and waits.\n",
    "- if clock B is running too slow, and a new signal from clock A arrives earlier than expected, it should not drift either. Clock B should flush all signals it needed to send in the prior intersignal interval and update rate and position."
   ]
  },
  {
   "cell_type": "code",
   "execution_count": 9,
   "id": "007e2533",
   "metadata": {},
   "outputs": [],
   "source": [
    "def receive_encoder(): # the function in clock B thread\n",
    "    global encoder, lock    \n",
    "    global sync_collector, incr_collector\n",
    "    ## SETUP\n",
    "    time_unit = 0.001 # seconds \n",
    "    lock.acquire()\n",
    "    position_prev = encoder.position\n",
    "    position = encoder.position\n",
    "    lock.release()\n",
    "    starting = True\n",
    "    print(\"starting\")\n",
    "    \n",
    "    ############################################# STARTING LOOP\n",
    "    while starting:\n",
    "        lock.acquire()\n",
    "        position = encoder.position\n",
    "        incr_change = abs(position-position_prev)\n",
    "        if incr_change > 0:\n",
    "            # increments\n",
    "            sec_per_incr = 5.0 # init tempo -> this is just an initial estimate and has no effect\n",
    "            incr_time = time.monotonic()\n",
    "            incr_time_prev = time.monotonic()\n",
    "            incr_counter = 0\n",
    "            position = encoder.position\n",
    "            position_prev = encoder.position\n",
    "\n",
    "            # sync\n",
    "            sec_per_sync = 0.5 # init tempo -> this is the initial rate of clock B\n",
    "            sync_time = time.monotonic()\n",
    "            sync_time_prev = time.monotonic()\n",
    "            sync_counter = 0\n",
    "\n",
    "            # conversion -> this is the \"gearbox ratio\" of the clocks\n",
    "            snyc_mod = 15\n",
    "            incr_mod = 3\n",
    "            syncs_per_incr = snyc_mod/incr_mod # encoder has 20 increments, sync sends 24 per 20\n",
    "            \n",
    "            # find the SYNC counters corresponding to the current INCR interval\n",
    "            # sync_count_of_incr_count_min -> where sync count should be ~ \n",
    "            sync_count_of_incr_count_min = 0\n",
    "            # sync_count_of_incr_count_max -> where sync count should stop ~\n",
    "            sync_count_of_incr_count_max = 1 * syncs_per_incr\n",
    "            sync_count_min = int(sync_count_of_incr_count_min // 1)\n",
    "            sync_count_max = int(sync_count_of_incr_count_max // 1)\n",
    "\n",
    "            # global time\n",
    "            global_time = time.monotonic()\n",
    "            global_time_elapsed = time.monotonic()\n",
    "\n",
    "            # run the main loop\n",
    "            starting = False\n",
    "            running = True\n",
    "        \n",
    "        lock.release()\n",
    "        time.sleep(time_unit)\n",
    "    \n",
    "    ############################################# RUNNING LOOP\n",
    "    while running:\n",
    "        \n",
    "        lock.acquire()\n",
    "        # update incr\n",
    "        position = encoder.position\n",
    "        incr_change = abs(position-position_prev)\n",
    "        if incr_change > 0:\n",
    "            incr_time = time.monotonic()\n",
    "            sec_per_incr = incr_time - incr_time_prev\n",
    "            incr_time_prev = incr_time\n",
    "            incr_counter += 1\n",
    "            print(\"seconds per increment: \", sec_per_incr, \"increment counter: \", incr_counter)\n",
    "            # update position\n",
    "            position_prev = position\n",
    "            incr_collector.append(incr_time)\n",
    "            \n",
    "            # find the SYNC counters corresponding to the current INCR interval\n",
    "            # sync_count_of_incr_count_min -> where sync count should be ~ \n",
    "            sync_count_of_incr_count_min = incr_counter * syncs_per_incr\n",
    "            # sync_count_of_incr_count_max -> where sync count should stop ~\n",
    "            sync_count_of_incr_count_max = (incr_counter+1) * syncs_per_incr\n",
    "            sync_count_min = int(sync_count_of_incr_count_min // 1)\n",
    "            sync_count_max = int(sync_count_of_incr_count_max // 1)\n",
    "            \n",
    "            # convert INCR tempo to SYNC tempo\n",
    "            sec_per_sync = sec_per_incr / syncs_per_incr\n",
    "            # set the new sync time reference to \n",
    "            sync_time_prev = incr_time # use increment time as reference\n",
    "            sync_time_prev -= (sync_count_of_incr_count_min % 1) * sec_per_sync # subtract partial cycle of sync\n",
    "            \n",
    "        # update SYNC: catch up\n",
    "        while sync_counter < sync_count_min:\n",
    "            sync_counter += 1\n",
    "            # sync_time_prev = time.monotonic()\n",
    "            sync_sender(sec_per_sync, sync_counter, time.monotonic(), \"catchup\")\n",
    "\n",
    "        # update SYNC: run but not too far\n",
    "        sync_time = time.monotonic()\n",
    "        sync_change = abs(sync_time-sync_time_prev)\n",
    "        if sync_change > sec_per_sync and sync_counter < sync_count_max:\n",
    "            sync_counter += 1\n",
    "            sync_time_prev = sync_time\n",
    "            sync_sender(sec_per_sync, sync_counter, sync_time, \"roll\")\n",
    "            \n",
    "        # update time\n",
    "        global_time_elapsed = sync_time - global_time\n",
    "        if abs(global_time_elapsed) > 30:\n",
    "            running = False\n",
    "        \n",
    "        lock.release()\n",
    "        time.sleep(time_unit)\n",
    "    \n",
    "def sync_sender(sec_per_sync, sync_counter, sync_time, msg):\n",
    "    global sync_collector\n",
    "    sync_collector.append(sync_time)\n",
    "    print(\"seconds per sync: \", sec_per_sync, \"sync counter: \", sync_counter, msg)"
   ]
  },
  {
   "cell_type": "code",
   "execution_count": 10,
   "id": "46da8159",
   "metadata": {},
   "outputs": [
    {
     "name": "stdout",
     "output_type": "stream",
     "text": [
      "starting\n",
      "sleepy time:  1.0\n",
      "seconds per sync:  0.5 sync counter:  1 roll\n",
      "sleepy time:  1.0\n",
      "seconds per increment:  1.0160000000032596 increment counter:  1\n",
      "seconds per sync:  0.20320000000065191 sync counter:  2 catchup\n",
      "seconds per sync:  0.20320000000065191 sync counter:  3 catchup\n",
      "seconds per sync:  0.20320000000065191 sync counter:  4 catchup\n",
      "seconds per sync:  0.20320000000065191 sync counter:  5 catchup\n",
      "seconds per sync:  0.20320000000065191 sync counter:  6 roll\n",
      "seconds per sync:  0.20320000000065191 sync counter:  7 roll\n",
      "seconds per sync:  0.20320000000065191 sync counter:  8 roll\n",
      "seconds per sync:  0.20320000000065191 sync counter:  9 roll\n",
      "sleepy time:  1.0\n",
      "seconds per increment:  1.0 increment counter:  2\n",
      "seconds per sync:  0.2 sync counter:  10 catchup\n",
      "seconds per sync:  0.2 sync counter:  11 roll\n",
      "seconds per sync:  0.2 sync counter:  12 roll\n",
      "seconds per sync:  0.2 sync counter:  13 roll\n",
      "seconds per sync:  0.2 sync counter:  14 roll\n",
      "sleepy time:  1.0\n",
      "seconds per increment:  1.0 increment counter:  3\n",
      "seconds per sync:  0.2 sync counter:  15 catchup\n",
      "seconds per sync:  0.2 sync counter:  16 roll\n",
      "seconds per sync:  0.2 sync counter:  17 roll\n",
      "seconds per sync:  0.2 sync counter:  18 roll\n",
      "seconds per sync:  0.2 sync counter:  19 roll\n",
      "sleepy time:  1.0\n",
      "seconds per increment:  1.0160000000032596 increment counter:  4\n",
      "seconds per sync:  0.20320000000065191 sync counter:  20 catchup\n",
      "seconds per sync:  0.20320000000065191 sync counter:  21 roll\n",
      "seconds per sync:  0.20320000000065191 sync counter:  22 roll\n",
      "seconds per sync:  0.20320000000065191 sync counter:  23 roll\n",
      "seconds per sync:  0.20320000000065191 sync counter:  24 roll\n",
      "sleepy time:  1.0\n",
      "seconds per increment:  1.0 increment counter:  5\n",
      "seconds per sync:  0.2 sync counter:  25 catchup\n",
      "seconds per sync:  0.2 sync counter:  26 roll\n",
      "seconds per sync:  0.2 sync counter:  27 roll\n",
      "seconds per sync:  0.2 sync counter:  28 roll\n",
      "seconds per sync:  0.2 sync counter:  29 roll\n",
      "sleepy time:  1.0\n",
      "seconds per increment:  1.014999999999418 increment counter:  6\n",
      "seconds per sync:  0.20299999999988358 sync counter:  30 catchup\n",
      "seconds per sync:  0.20299999999988358 sync counter:  31 roll\n",
      "seconds per sync:  0.20299999999988358 sync counter:  32 roll\n",
      "seconds per sync:  0.20299999999988358 sync counter:  33 roll\n",
      "seconds per sync:  0.20299999999988358 sync counter:  34 roll\n",
      "sleepy time:  1.0\n",
      "seconds per increment:  1.0 increment counter:  7\n",
      "seconds per sync:  0.2 sync counter:  35 catchup\n",
      "seconds per sync:  0.2 sync counter:  36 roll\n",
      "seconds per sync:  0.2 sync counter:  37 roll\n",
      "seconds per sync:  0.2 sync counter:  38 roll\n",
      "seconds per sync:  0.2 sync counter:  39 roll\n",
      "sleepy time:  1.0\n",
      "seconds per increment:  1.0160000000032596 increment counter:  8\n",
      "seconds per sync:  0.20320000000065191 sync counter:  40 catchup\n",
      "seconds per sync:  0.20320000000065191 sync counter:  41 roll\n",
      "seconds per sync:  0.20320000000065191 sync counter:  42 roll\n",
      "seconds per sync:  0.20320000000065191 sync counter:  43 roll\n",
      "seconds per sync:  0.20320000000065191 sync counter:  44 roll\n",
      "sleepy time:  1.0\n",
      "seconds per increment:  1.014999999999418 increment counter:  9\n",
      "seconds per sync:  0.20299999999988358 sync counter:  45 catchup\n",
      "seconds per sync:  0.20299999999988358 sync counter:  46 roll\n",
      "seconds per sync:  0.20299999999988358 sync counter:  47 roll\n",
      "seconds per sync:  0.20299999999988358 sync counter:  48 roll\n",
      "seconds per sync:  0.20299999999988358 sync counter:  49 roll\n",
      "seconds per sync:  0.20299999999988358 sync counter:  50 roll\n"
     ]
    }
   ],
   "source": [
    "t1 = Thread(target=increment_encoder)\n",
    "t2 = Thread(target=receive_encoder)\n",
    "\n",
    "t1.start()\n",
    "t2.start()"
   ]
  },
  {
   "cell_type": "markdown",
   "id": "010dee5e",
   "metadata": {},
   "source": [
    "### Visualization\n",
    "\n",
    "The print statements give some indication of whats going on. Let's also use the stored clock signal times to create a plot of what's going on:"
   ]
  },
  {
   "cell_type": "code",
   "execution_count": 11,
   "id": "f42d5aa1",
   "metadata": {},
   "outputs": [
    {
     "data": {
      "image/png": "[encoded data removed]",
      "text/plain": [
       "<Figure size 640x480 with 1 Axes>"
      ]
     },
     "metadata": {},
     "output_type": "display_data"
    }
   ],
   "source": [
    "plt.scatter(sync_collector, np.ones_like(sync_collector),c = \"r\")\n",
    "\n",
    "for inc in incr_collector:\n",
    "    plt.plot([inc, inc], [0.5, 1.5],'o-', lw=0.5, c = 'b')\n",
    "    \n",
    "for inc in sync_collector:\n",
    "    plt.plot([inc, inc], [0.75, 1.25],'o-', lw=0.5, c = 'r')\n",
    "#plt.scatter(incr_collector, 3* np.ones_like(incr_collector),c = \"b\")"
   ]
  },
  {
   "cell_type": "code",
   "execution_count": 12,
   "id": "8affeaca",
   "metadata": {},
   "outputs": [
    {
     "data": {
      "text/plain": [
       "[109305.234,\n",
       " 109306.234,\n",
       " 109307.234,\n",
       " 109308.25,\n",
       " 109309.25,\n",
       " 109310.265,\n",
       " 109311.265,\n",
       " 109312.281,\n",
       " 109313.296]"
      ]
     },
     "execution_count": 12,
     "metadata": {},
     "output_type": "execute_result"
    }
   ],
   "source": [
    "incr_collector"
   ]
  },
  {
   "cell_type": "code",
   "execution_count": 13,
   "id": "d4b58c63",
   "metadata": {},
   "outputs": [
    {
     "data": {
      "text/plain": [
       "[109304.734,\n",
       " 109305.234,\n",
       " 109305.234,\n",
       " 109305.234,\n",
       " 109305.234,\n",
       " 109305.453,\n",
       " 109305.671,\n",
       " 109305.875,\n",
       " 109306.093,\n",
       " 109306.234,\n",
       " 109306.437,\n",
       " 109306.64,\n",
       " 109306.843,\n",
       " 109307.046,\n",
       " 109307.234,\n",
       " 109307.437,\n",
       " 109307.64,\n",
       " 109307.843,\n",
       " 109308.046,\n",
       " 109308.25,\n",
       " 109308.468,\n",
       " 109308.687,\n",
       " 109308.906,\n",
       " 109309.125,\n",
       " 109309.25,\n",
       " 109309.453,\n",
       " 109309.656,\n",
       " 109309.859,\n",
       " 109310.062,\n",
       " 109310.265,\n",
       " 109310.484,\n",
       " 109310.687,\n",
       " 109310.906,\n",
       " 109311.125,\n",
       " 109311.265,\n",
       " 109311.468,\n",
       " 109311.671,\n",
       " 109311.875,\n",
       " 109312.078,\n",
       " 109312.281,\n",
       " 109312.5,\n",
       " 109312.718,\n",
       " 109312.937,\n",
       " 109313.156,\n",
       " 109313.296,\n",
       " 109313.5,\n",
       " 109313.718,\n",
       " 109313.921,\n",
       " 109314.125,\n",
       " 109314.343]"
      ]
     },
     "execution_count": 13,
     "metadata": {},
     "output_type": "execute_result"
    }
   ],
   "source": [
    "sync_collector"
   ]
  },
  {
   "cell_type": "code",
   "execution_count": null,
   "id": "51b0707c",
   "metadata": {},
   "outputs": [],
   "source": []
  }
 ],
 "metadata": {
  "kernelspec": {
   "display_name": "Python 3 (ipykernel)",
   "language": "python",
   "name": "python3"
  },
  "language_info": {
   "codemirror_mode": {
    "name": "ipython",
    "version": 3
   },
   "file_extension": ".py",
   "mimetype": "text/x-python",
   "name": "python",
   "nbconvert_exporter": "python",
   "pygments_lexer": "ipython3",
   "version": "3.9.16"
  }
 },
 "nbformat": 4,
 "nbformat_minor": 5
}
