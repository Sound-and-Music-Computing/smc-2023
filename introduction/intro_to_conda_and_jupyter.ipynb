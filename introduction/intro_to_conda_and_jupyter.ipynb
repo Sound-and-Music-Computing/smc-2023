{
 "cells": [
  {
   "cell_type": "markdown",
   "id": "358ba6c3",
   "metadata": {},
   "source": [
    "# Welcome to the first Sound and Music Computing code-along notebook!\n",
    "\n",
    "In this jupyter notebook we take a look at:\n",
    "- setting up a conda environment with jupyter and partitura\n",
    "- finding your way around jupyter notebooks\n"
   ]
  },
  {
   "cell_type": "markdown",
   "id": "f2fe4b28",
   "metadata": {},
   "source": [
    "## Setting up a conda environment \n",
    "\n",
    "(this is the same information as the README file of the introduction repository.)\n",
    "\n",
    "1. Go to [anaconda](anaconda.com) or [miniconda](https://docs.conda.io/en/latest/miniconda.html) and download the miniconda (or anaconda, if you prefer) in version compatible with the system your running. You can choose any python version you like, for this course we use 3.7. \n",
    "2. Install this software which gives you at least two things: the command-line python package manager ```conda``` (similar to the python package manager ```pip```) and the conda environment management system. Conda environments allow you to create virtual python environments with their own python interpreter and installed packages.\n",
    "3. In this repository you find a file called ```environment.yml``` which contains a list of dependencies that we use regularly.\n",
    "4. Create a conda environment with __your_environment_name__ from this file by executing\n",
    "```\n",
    "conda env create -f path/to/environment.yml\n",
    "```\n",
    "in the terminal of your choice. Conda supports many shells, though some (PowerShell, ...) might require extra steps after installation.\n",
    "5. You can deactivate the currently active environment by executing\n",
    "```\n",
    "conda deactivate\n",
    "```\n",
    "6. You can activate your environment by executing\n",
    "```\n",
    "conda activate smc2022\n",
    "```\n",
    "7. In many terminals you see the name of the currently active environment in parnetheses in the beginning of the line. Removing or installing anything via pip or conda will only affect this environment while it is activated. Check your currently installed packages via ```pip freeze``` or ```conda list```. Check the python version using ```python -V```"
   ]
  },
  {
   "cell_type": "markdown",
   "id": "9c9afea9",
   "metadata": {},
   "source": [
    "## So how do jupyter notebooks work?\n",
    "\n",
    "Jupyter notebooks are a handy way to mix code with visualizations and explanations. Unfortunately, they can have the side effect of creating bad coding habits. Let's have a look athow they work and what we need to keep in mind while using them. This is a rough overview and only looks at the functionality we will definitely need\n",
    "\n",
    "1. Jupyter notebooks consist of multiple cells which contain markdown/latex text or python code\n",
    "2. Whether a cell is evaluated as text or code depends on its type: change the type by clicking on \"Cell\" in the menu bar and then \"Cell Type\"\n",
    "3. All cells up until now have been markdown text cells. Double click somewhere to see the \"source text\"\n",
    "4. A cell is evaluated by clicking \"Run\" in the navigation bar of by typing ```Shift + Enter```\n",
    "5. A text cell is evaluated to rendered text, a python code cell is interpreted, all text based or graphic feedback will be displayed just below the cell\n",
    "6. Jupyter Notebooks are *not* run top to bottom by default, but in the order in which you evaluate the cells. It is best practice to force yourself to work top to bottom however and make sure you don't overwrite your variables by jumping back and forth.\n",
    "7. Python cells work very similar to python scripts. You can import packages and files, you can use previously computed variables or previously defined functions. You can plot using matplotlib by typing ```%matplotlib inline``` in the first line of a cell.\n",
    "\n",
    "### Notebook Tips and Recommendations\n",
    "\n",
    "Generally:\n",
    "- Notebooks are great for: exploratory data analysis (visualize your data in many ways, compute some statistics)), technical blog posts, tutorials, Technical Presentations, Quick and simple experimentation\n",
    "- Notebooks are not so great for complex models, in depth experimentation, compact code sharing for challenge submissions\n",
    "- For these consider using standard python scripts, modularized and reused in suitable way, with a main function callable from a terminal\n",
    "\n",
    "Specifically:\n",
    "- Always execute notebooks top to bottom\n",
    "- Write long functions and classes (20+ lines) in external files and import them\n",
    "- Use python scripts instead of notebooks for extended experiments\n",
    "- Set and use global parameters at the top of the notebook (if it runs parametrized experiments)\n",
    "- Pay close attention not to overwrite variables/function (for instance if experimenting with a couple alternatives in an experiment)\n",
    "\n",
    "\n"
   ]
  },
  {
   "cell_type": "markdown",
   "id": "f7d9a973",
   "metadata": {},
   "source": []
  },
  {
   "cell_type": "code",
   "execution_count": 1,
   "id": "78342e7a",
   "metadata": {},
   "outputs": [
    {
     "name": "stdout",
     "output_type": "stream",
     "text": [
      "Hello World\n"
     ]
    }
   ],
   "source": [
    "print(\"Hello World\")"
   ]
  },
  {
   "cell_type": "code",
   "execution_count": null,
   "id": "7554f62e",
   "metadata": {},
   "outputs": [],
   "source": []
  }
 ],
 "metadata": {
  "kernelspec": {
   "display_name": "Python 3 (ipykernel)",
   "language": "python",
   "name": "python3"
  },
  "language_info": {
   "codemirror_mode": {
    "name": "ipython",
    "version": 3
   },
   "file_extension": ".py",
   "mimetype": "text/x-python",
   "name": "python",
   "nbconvert_exporter": "python",
   "pygments_lexer": "ipython3",
   "version": "3.7.13"
  },
  "vscode": {
   "interpreter": {
    "hash": "172a5ce276eb1d0d801a9beadd7c9d3aac7210a29cee87eb8cc563f5ca08be0c"
   }
  }
 },
 "nbformat": 4,
 "nbformat_minor": 5
}
